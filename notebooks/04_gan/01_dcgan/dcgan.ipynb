{
 "cells": [
  {
   "cell_type": "markdown",
   "id": "a076cfa2",
   "metadata": {},
   "source": [
    "# 🧱 DCGAN - Bricks Data\n",
    "\n",
    "In this notebook, we'll walk through the steps required to train your own DCGAN on the bricks dataset"
   ]
  },
  {
   "cell_type": "markdown",
   "id": "ebab70cc",
   "metadata": {},
   "source": [
    "## 0. Parameters"
   ]
  },
  {
   "cell_type": "code",
   "execution_count": null,
   "id": "1186689c",
   "metadata": {},
   "outputs": [],
   "source": [
    "IMAGE_SIZE = 64\n",
    "CHANNELS = 1\n",
    "BATCH_SIZE = 128\n",
    "Z_DIM = 100\n",
    "EPOCHS = 300\n",
    "LOAD_MODEL = False\n",
    "ADAM_BETA_1 = 0.5\n",
    "ADAM_BETA_2 = 0.999\n",
    "LEARNING_RATE = 0.0002\n",
    "NOISE_PARAM = 0.1"
   ]
  },
  {
   "cell_type": "markdown",
   "id": "dd417405",
   "metadata": {},
   "source": [
    "## 1. Prepare the data"
   ]
  },
  {
   "cell_type": "markdown",
   "id": "93d7ba38",
   "metadata": {},
   "source": []
  }
 ],
 "metadata": {
  "kernelspec": {
   "display_name": "gendl-RLZMWipM-py3.10",
   "language": "python",
   "name": "python3"
  },
  "language_info": {
   "name": "python",
   "version": "3.10.18"
  }
 },
 "nbformat": 4,
 "nbformat_minor": 5
}

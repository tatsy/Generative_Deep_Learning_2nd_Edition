{
 "cells": [
  {
   "cell_type": "markdown",
   "id": "766ce63a",
   "metadata": {},
   "source": [
    "# 👀 Multilayer perceptron (MLP)\n"
   ]
  },
  {
   "cell_type": "markdown",
   "id": "30014c49",
   "metadata": {},
   "source": [
    "In this notebook, we'll walk through the steps required to train your own multilayer perceptron on the CIFAR dataset\n"
   ]
  },
  {
   "cell_type": "code",
   "execution_count": null,
   "id": "fdb3a3aa",
   "metadata": {},
   "outputs": [],
   "source": [
    "import numpy as np\n",
    "import matplotlib.pyplot as plt\n",
    "from rich.progress import Progress\n",
    "\n",
    "import torch\n",
    "import torch.nn as nn\n",
    "import torch.nn.functional as F\n",
    "from torchvision import datasets\n",
    "from torchvision.transforms import v2\n",
    "\n",
    "from notebooks.utils import display"
   ]
  },
  {
   "cell_type": "markdown",
   "id": "d941210c",
   "metadata": {},
   "source": [
    "## 0. Parameters\n"
   ]
  },
  {
   "cell_type": "code",
   "execution_count": null,
   "id": "870cb7f1",
   "metadata": {},
   "outputs": [],
   "source": [
    "NUM_CLASSES = 10\n",
    "BATCH_SIZE = 32\n",
    "EPOCHS = 10"
   ]
  },
  {
   "cell_type": "code",
   "execution_count": null,
   "id": "a9af7346",
   "metadata": {},
   "outputs": [],
   "source": [
    "if torch.cuda.is_available():\n",
    "    device = torch.device('cuda')\n",
    "    gpu_name = torch.cuda.get_device_name(0)\n",
    "    print(f\"Let's use CUDA ({gpu_name})\")\n",
    "else:\n",
    "    device = torch.device('cpu')"
   ]
  },
  {
   "cell_type": "markdown",
   "id": "3c46546c",
   "metadata": {},
   "source": [
    "## 1. Prepare the Data\n"
   ]
  },
  {
   "cell_type": "code",
   "execution_count": null,
   "id": "c6a85237",
   "metadata": {},
   "outputs": [],
   "source": [
    "transforms = v2.Compose([v2.ToImage(), v2.ToDtype(torch.float32, scale=True)])\n",
    "train_set = datasets.CIFAR10(root='data', train=True, download=True, transform=transforms)\n",
    "test_set = datasets.CIFAR10(root='data', train=False, download=True, transform=transforms)"
   ]
  },
  {
   "cell_type": "code",
   "execution_count": null,
   "id": "934c767a",
   "metadata": {},
   "outputs": [],
   "source": [
    "train_loader = torch.utils.data.DataLoader(train_set, batch_size=BATCH_SIZE, shuffle=True)\n",
    "test_loader = torch.utils.data.DataLoader(test_set, batch_size=BATCH_SIZE, shuffle=False)"
   ]
  },
  {
   "cell_type": "code",
   "execution_count": null,
   "id": "90783a20",
   "metadata": {},
   "outputs": [],
   "source": [
    "x_train = np.array([train_set[i][0] for i in range(10)])\n",
    "y_train = np.array([train_set[i][1] for i in range(10)])\n",
    "display(x_train)\n",
    "print(y_train)"
   ]
  },
  {
   "cell_type": "markdown",
   "id": "b077e681",
   "metadata": {},
   "source": [
    "## 2. Build the model\n"
   ]
  },
  {
   "cell_type": "code",
   "execution_count": null,
   "id": "0d378e04",
   "metadata": {},
   "outputs": [],
   "source": [
    "class MLP(nn.Module):\n",
    "    def __init__(self):\n",
    "        super().__init__()\n",
    "        self.net = nn.Sequential(\n",
    "            nn.Flatten(),\n",
    "            nn.Linear(3072, 200),\n",
    "            nn.ReLU(),\n",
    "            nn.Linear(200, 150),\n",
    "            nn.ReLU(),\n",
    "            nn.Linear(150, NUM_CLASSES),\n",
    "            nn.LogSoftmax(dim=1),\n",
    "        )\n",
    "\n",
    "    def forward(self, x):\n",
    "        return self.net(x)"
   ]
  },
  {
   "cell_type": "markdown",
   "id": "4b6d6b6e",
   "metadata": {},
   "source": [
    "## 3. Train the model\n"
   ]
  },
  {
   "cell_type": "code",
   "execution_count": null,
   "id": "d225ef75",
   "metadata": {},
   "outputs": [],
   "source": [
    "model = MLP()\n",
    "model.to(device)\n",
    "\n",
    "opt = torch.optim.Adam(model.parameters(), lr=0.0005)"
   ]
  },
  {
   "cell_type": "code",
   "execution_count": null,
   "id": "e9d4b6a2",
   "metadata": {},
   "outputs": [],
   "source": [
    "with Progress() as progress:\n",
    "    ema_loss = 0.0\n",
    "    ema_acc = 0.0\n",
    "    for epoch in range(EPOCHS):\n",
    "        train_task = progress.add_task('Training...', total=len(train_loader))\n",
    "        model.train()\n",
    "        for batch in train_loader:\n",
    "            X, y = batch\n",
    "            X = X.to(device)\n",
    "            y = y.to(device)\n",
    "            log_y_pred = model(X)\n",
    "            loss = F.nll_loss(log_y_pred, y)\n",
    "            acc = (log_y_pred.argmax(dim=1) == y).float().mean()\n",
    "\n",
    "            opt.zero_grad()\n",
    "            loss.backward()\n",
    "            opt.step()\n",
    "\n",
    "            ema_loss = 0.9 * ema_loss + 0.1 * loss.item()\n",
    "            ema_acc = 0.9 * ema_acc + 0.1 * acc.item()\n",
    "            progress.update(\n",
    "                train_task,\n",
    "                advance=1,\n",
    "                description=f'[{epoch + 1}/{EPOCHS}] loss: {ema_loss:.4f}, accuracy: {ema_acc:.4f}',\n",
    "            )\n",
    "\n",
    "        progress.update(train_task, refresh=True)"
   ]
  },
  {
   "cell_type": "markdown",
   "id": "9143bd64",
   "metadata": {},
   "source": [
    "## 4. Evaluation\n"
   ]
  },
  {
   "cell_type": "code",
   "execution_count": null,
   "id": "da7c408b",
   "metadata": {},
   "outputs": [],
   "source": [
    "avg_loss = 0.0\n",
    "avg_acc = 0.0\n",
    "count = 0\n",
    "preds = []\n",
    "\n",
    "with Progress() as progress:\n",
    "    test_task = progress.add_task('Testing...', total=len(test_loader))\n",
    "    model.eval()\n",
    "    for X, y in test_loader:\n",
    "        X = X.to(device)\n",
    "        y = y.to(device)\n",
    "        with torch.no_grad():\n",
    "            log_y_pred = model(X)\n",
    "            loss = F.nll_loss(log_y_pred, y)\n",
    "            acc = (log_y_pred.argmax(dim=-1) == y).float().mean()\n",
    "\n",
    "        avg_loss += loss.item() * X.size(0)\n",
    "        avg_acc += acc.item() * X.size(0)\n",
    "        count += X.size(0)\n",
    "        preds.append(log_y_pred.detach().cpu().numpy())\n",
    "\n",
    "        progress.update(test_task, advance=1)\n",
    "\n",
    "    avg_loss /= count\n",
    "    avg_acc /= count\n",
    "    preds = np.concatenate(preds, axis=0)\n",
    "\n",
    "    progress.update(test_task, refresh=True)\n",
    "    progress.console.log(f'[Test] loss: {avg_loss:.4f}, accuracy: {avg_acc:.4f}')"
   ]
  },
  {
   "cell_type": "code",
   "execution_count": null,
   "id": "9f24603d",
   "metadata": {},
   "outputs": [],
   "source": [
    "CLASSES = np.array(\n",
    "    [\n",
    "        'airplane',\n",
    "        'automobile',\n",
    "        'bird',\n",
    "        'cat',\n",
    "        'deer',\n",
    "        'dog',\n",
    "        'frog',\n",
    "        'horse',\n",
    "        'ship',\n",
    "        'truck',\n",
    "    ]\n",
    ")\n",
    "\n",
    "preds_single = CLASSES[np.argmax(preds, axis=-1)]\n",
    "actual_single = CLASSES[test_set.targets]"
   ]
  },
  {
   "cell_type": "code",
   "execution_count": null,
   "id": "7692a470",
   "metadata": {},
   "outputs": [],
   "source": [
    "n_to_show = 10\n",
    "indices = np.random.choice(range(len(test_set)), n_to_show)\n",
    "\n",
    "fig = plt.figure(figsize=(15, 3))\n",
    "fig.subplots_adjust(hspace=0.4, wspace=0.4)\n",
    "\n",
    "for i, idx in enumerate(indices):\n",
    "    img = test_set.data[idx]\n",
    "    ax = fig.add_subplot(1, n_to_show, i + 1)\n",
    "    ax.axis(\"off\")\n",
    "    ax.text(\n",
    "        0.5,\n",
    "        -0.35,\n",
    "        \"pred = \" + str(preds_single[idx]),\n",
    "        fontsize=10,\n",
    "        ha=\"center\",\n",
    "        transform=ax.transAxes,\n",
    "    )\n",
    "    ax.text(\n",
    "        0.5,\n",
    "        -0.7,\n",
    "        \"act = \" + str(actual_single[idx]),\n",
    "        fontsize=10,\n",
    "        ha=\"center\",\n",
    "        transform=ax.transAxes,\n",
    "    )\n",
    "    ax.imshow(img)\n",
    "\n",
    "plt.show()"
   ]
  },
  {
   "cell_type": "code",
   "execution_count": null,
   "id": "26506106",
   "metadata": {},
   "outputs": [],
   "source": []
  }
 ],
 "metadata": {
  "kernelspec": {
   "display_name": "gendl-83qhsqs3-py3.10",
   "language": "python",
   "name": "python3"
  },
  "language_info": {
   "codemirror_mode": {
    "name": "ipython",
    "version": 3
   },
   "file_extension": ".py",
   "mimetype": "text/x-python",
   "name": "python",
   "nbconvert_exporter": "python",
   "pygments_lexer": "ipython3",
   "version": "3.10.12"
  }
 },
 "nbformat": 4,
 "nbformat_minor": 5
}

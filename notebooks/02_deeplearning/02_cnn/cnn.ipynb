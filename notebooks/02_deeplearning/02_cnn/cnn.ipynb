{
 "cells": [
  {
   "cell_type": "markdown",
   "id": "e8607574",
   "metadata": {},
   "source": [
    "# 🏞 Convolutional Neural Network"
   ]
  },
  {
   "cell_type": "markdown",
   "id": "8f81a95d",
   "metadata": {},
   "source": [
    "In this notebook, we'll walk through the steps required to train your own convolutional neural network (CNN) on the CIFAR dataset"
   ]
  },
  {
   "cell_type": "markdown",
   "id": "dde2f9ed",
   "metadata": {},
   "source": []
  }
 ],
 "metadata": {
  "language_info": {
   "name": "python"
  }
 },
 "nbformat": 4,
 "nbformat_minor": 5
}
